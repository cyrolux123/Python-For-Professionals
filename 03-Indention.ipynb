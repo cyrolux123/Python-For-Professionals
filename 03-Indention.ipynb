{
 "cells": [
  {
   "cell_type": "markdown",
   "metadata": {},
   "source": [
    "Simple Example"
   ]
  },
  {
   "cell_type": "code",
   "execution_count": 2,
   "metadata": {},
   "outputs": [
    {
     "data": {
      "text/plain": [
       "True"
      ]
     },
     "execution_count": 2,
     "metadata": {},
     "output_type": "execute_result"
    }
   ],
   "source": [
    "class ExampleClass:\n",
    "    # Every function belonging to a class must be intended equally\n",
    "    def __init__(self):\n",
    "        name = \"example\"\n",
    "\n",
    "    def someFunction(self, a):\n",
    "        # Everything belonging to a function must be intended\n",
    "        if a > 5:\n",
    "            return True\n",
    "        else:\n",
    "            return False\n",
    "\n",
    "# If a function is not intended to the same level as the class, it will not be considered part of the class\n",
    "def separateFunction(b):\n",
    "    for i in b:\n",
    "    # Loops are also intended and nested conditions start a new indentation\n",
    "        if i == 1:\n",
    "            return True\n",
    "    return False\n",
    "\n",
    "separateFunction([2,3,5,6,1])"
   ]
  },
  {
   "cell_type": "code",
   "execution_count": 3,
   "metadata": {},
   "outputs": [
    {
     "data": {
      "text/plain": [
       "'\\na = 7\\nif a > 5:\\n    print \"foo\"\\nelse:\\n    print \"bar\"\\n   print \"done\"\\n'"
      ]
     },
     "execution_count": 3,
     "metadata": {},
     "output_type": "execute_result"
    }
   ],
   "source": [
    "# Spacing should be even and uniform throughout the code\n",
    "# Following example raises an IndentationError\n",
    "'''\n",
    "a = 7\n",
    "if a > 5:\n",
    "    print \"foo\"\n",
    "else:\n",
    "    print \"bar\"\n",
    "   print \"done\"\n",
    "'''"
   ]
  },
  {
   "cell_type": "code",
   "execution_count": 4,
   "metadata": {},
   "outputs": [
    {
     "data": {
      "text/plain": [
       "'\\nif True:\\nprint \"true\"\\n'"
      ]
     },
     "execution_count": 4,
     "metadata": {},
     "output_type": "execute_result"
    }
   ],
   "source": [
    "# If the line following a colon is not intended, it will raise an IndentationError\n",
    "'''\n",
    "if True:\n",
    "print \"true\"\n",
    "'''"
   ]
  },
  {
   "cell_type": "code",
   "execution_count": 5,
   "metadata": {},
   "outputs": [
    {
     "data": {
      "text/plain": [
       "'\\nif True:\\n    a = 6\\n        b =5\\n'"
      ]
     },
     "execution_count": 5,
     "metadata": {},
     "output_type": "execute_result"
    }
   ],
   "source": [
    "# If we add indention where it doesn't belong, it will raise an IndentationError\n",
    "'''\n",
    "if True:\n",
    "    a = 6\n",
    "        b =5\n",
    "'''"
   ]
  },
  {
   "cell_type": "code",
   "execution_count": 7,
   "metadata": {},
   "outputs": [
    {
     "name": "stdout",
     "output_type": "stream",
     "text": [
      "None\n"
     ]
    }
   ],
   "source": [
    "# If we forget to un-indent functionality could be lost. In this example None is returned instead of expected False\n",
    "\n",
    "def isEven(a):\n",
    "    if a % 2 == 0:\n",
    "        return True\n",
    "        # this next line should be even with the if statement\n",
    "        return False\n",
    "print(isEven(7))"
   ]
  }
 ],
 "metadata": {
  "kernelspec": {
   "display_name": "Python 3",
   "language": "python",
   "name": "python3"
  },
  "language_info": {
   "codemirror_mode": {
    "name": "ipython",
    "version": 3
   },
   "file_extension": ".py",
   "mimetype": "text/x-python",
   "name": "python",
   "nbconvert_exporter": "python",
   "pygments_lexer": "ipython3",
   "version": "3.12.0"
  }
 },
 "nbformat": 4,
 "nbformat_minor": 2
}
